{
 "cells": [
  {
   "cell_type": "markdown",
   "id": "8bfcff73",
   "metadata": {},
   "source": [
    "✅ Identify & drop highly correlated features\n",
    "\n",
    "From your heatmap, examples of highly collinear pairs (r > 0.95):\n",
    "\n",
    "spkts and sbytes\n",
    "\n",
    "smean and spkts\n",
    "\n",
    "stcpb and dtcpb\n",
    "\n",
    "sinpkt and dmean\n",
    "\n",
    "dbytes and dpkts"
   ]
  },
  {
   "cell_type": "code",
   "execution_count": 1,
   "id": "c135341a",
   "metadata": {},
   "outputs": [
    {
     "name": "stdout",
     "output_type": "stream",
     "text": [
      "        dur proto service state  spkts  dpkts  sbytes  dbytes       rate  \\\n",
      "0  0.121478   tcp       -   FIN      6      4     258     172  74.087486   \n",
      "1  0.649902   tcp       -   FIN     14     38     734   42014  78.473373   \n",
      "2  1.623129   tcp       -   FIN      8     16     364   13186  14.170161   \n",
      "3  1.681642   tcp     ftp   FIN     12     12     628     770  13.677108   \n",
      "4  0.449454   tcp       -   FIN     10      6     534     268  33.373825   \n",
      "\n",
      "          sload  ...  trans_depth  response_body_len  ct_src_dport_ltm  \\\n",
      "0  14158.942383  ...            0                  0                 1   \n",
      "1   8395.112305  ...            0                  0                 1   \n",
      "2   1572.271851  ...            0                  0                 1   \n",
      "3   2740.178955  ...            0                  0                 1   \n",
      "4   8561.499023  ...            0                  0                 2   \n",
      "\n",
      "   ct_dst_sport_ltm  is_ftp_login  ct_ftp_cmd  ct_flw_http_mthd  \\\n",
      "0                 1             0           0                 0   \n",
      "1                 1             0           0                 0   \n",
      "2                 1             0           0                 0   \n",
      "3                 1             1           1                 0   \n",
      "4                 1             0           0                 0   \n",
      "\n",
      "   is_sm_ips_ports  attack_cat  label  \n",
      "0                0      Normal      0  \n",
      "1                0      Normal      0  \n",
      "2                0      Normal      0  \n",
      "3                0      Normal      0  \n",
      "4                0      Normal      0  \n",
      "\n",
      "[5 rows x 36 columns]\n"
     ]
    }
   ],
   "source": [
    "import pandas as pd\n",
    "\n",
    "data = pd.read_parquet(r\"Data\\UNSW_NB15_training-set.parquet\", engine=\"pyarrow\")\n",
    "print(data.head())"
   ]
  },
  {
   "cell_type": "code",
   "execution_count": 2,
   "id": "c0d15b9d",
   "metadata": {},
   "outputs": [
    {
     "data": {
      "text/plain": [
       "Index(['dur', 'proto', 'service', 'state', 'sbytes', 'dbytes', 'rate', 'sload',\n",
       "       'dload', 'sloss', 'dloss', 'sinpkt', 'dinpkt', 'sjit', 'djit', 'swin',\n",
       "       'stcpb', 'dwin', 'tcprtt', 'synack', 'ackdat', 'trans_depth',\n",
       "       'response_body_len', 'ct_src_dport_ltm', 'ct_dst_sport_ltm',\n",
       "       'is_ftp_login', 'ct_ftp_cmd', 'ct_flw_http_mthd', 'is_sm_ips_ports',\n",
       "       'attack_cat', 'label'],\n",
       "      dtype='object')"
      ]
     },
     "execution_count": 2,
     "metadata": {},
     "output_type": "execute_result"
    }
   ],
   "source": [
    "#Drop one feature per pair:\n",
    "\n",
    "high_corr_features = ['spkts', 'smean', 'dtcpb', 'dmean', 'dpkts']\n",
    "data_reduced = data.drop(columns=high_corr_features)\n",
    "data_reduced.columns\n"
   ]
  },
  {
   "cell_type": "markdown",
   "id": "0b5ddc60",
   "metadata": {},
   "source": [
    "Encode categorical variables\n",
    "\n",
    "Normalize or standardize numerical features"
   ]
  },
  {
   "cell_type": "code",
   "execution_count": 3,
   "id": "fd1a2e6a",
   "metadata": {},
   "outputs": [],
   "source": [
    "from sklearn.preprocessing import StandardScaler, LabelEncoder\n",
    "\n",
    "data_encoded = data.copy()\n",
    "for col in data_encoded.select_dtypes(include='category').columns:\n",
    "    data_encoded[col] = LabelEncoder().fit_transform(data_encoded[col])\n",
    "\n",
    "# Repeat for df_reduced\n",
    "scaler = StandardScaler()\n",
    "X_full = scaler.fit_transform(data_encoded.drop(columns=['attack_cat', 'label']))\n",
    "X_reduced = scaler.fit_transform(data_encoded.drop(columns=high_corr_features + ['attack_cat', 'label']))\n",
    "y = data_encoded['label']\n"
   ]
  },
  {
   "cell_type": "code",
   "execution_count": 4,
   "id": "239a080a",
   "metadata": {},
   "outputs": [
    {
     "data": {
      "text/plain": [
       "(175341, 29)"
      ]
     },
     "execution_count": 4,
     "metadata": {},
     "output_type": "execute_result"
    }
   ],
   "source": [
    "X_reduced.shape"
   ]
  },
  {
   "cell_type": "code",
   "execution_count": 5,
   "id": "b4f9e6a8",
   "metadata": {},
   "outputs": [],
   "source": [
    "from sklearn.ensemble import IsolationForest\n",
    "from sklearn.mixture import GaussianMixture\n",
    "from sklearn.cluster import DBSCAN\n",
    "\n",
    "# Isolation Forest\n",
    "iso = IsolationForest(contamination=0.05, random_state=42)\n",
    "pred_iso = iso.fit_predict(X_full)  # -1 = anomaly, 1 = normal\n"
   ]
  },
  {
   "cell_type": "code",
   "execution_count": 6,
   "id": "c16e32e1",
   "metadata": {},
   "outputs": [],
   "source": [
    "# GMM\n",
    "gmm = GaussianMixture(n_components=2, random_state=42)\n",
    "gmm_labels = gmm.fit_predict(X_full)\n"
   ]
  },
  {
   "cell_type": "code",
   "execution_count": null,
   "id": "c72e1948",
   "metadata": {},
   "outputs": [],
   "source": [
    "from sklearn.decomposition import PCA\n",
    "\n",
    "pca = PCA(n_components=10, random_state=42)\n",
    "X_pca = pca.fit_transform(X_full)\n",
    "\n",
    "dbscan = DBSCAN(eps=1.5, min_samples=5)\n",
    "db_labels = dbscan.fit_predict(X_pca)\n"
   ]
  },
  {
   "cell_type": "code",
   "execution_count": 7,
   "id": "272e3da5",
   "metadata": {},
   "outputs": [
    {
     "data": {
      "text/plain": [
       "array([0, 0, 0, ..., 1, 1, 1], shape=(175341,))"
      ]
     },
     "execution_count": 7,
     "metadata": {},
     "output_type": "execute_result"
    }
   ],
   "source": [
    "gmm_labels"
   ]
  },
  {
   "cell_type": "code",
   "execution_count": 8,
   "id": "20e3eb1c",
   "metadata": {},
   "outputs": [
    {
     "name": "stdout",
     "output_type": "stream",
     "text": [
      "Isolation Forest F1: 0.08965872545040122 | ARI: 0.003743917028665791\n"
     ]
    }
   ],
   "source": [
    "from sklearn.metrics import f1_score, adjusted_rand_score\n",
    "\n",
    "f1 = f1_score(y, (pred_iso == -1).astype(int))\n",
    "ari = adjusted_rand_score(y, (pred_iso == -1).astype(int))\n",
    "print(\"Isolation Forest F1:\", f1, \"| ARI:\", ari)\n"
   ]
  },
  {
   "cell_type": "code",
   "execution_count": 9,
   "id": "14b24799",
   "metadata": {},
   "outputs": [
    {
     "name": "stdout",
     "output_type": "stream",
     "text": [
      "Gmm F1: 0.7283791995027622 | ARI: 0.1091433542732965\n"
     ]
    }
   ],
   "source": [
    "from sklearn.metrics import f1_score, adjusted_rand_score\n",
    "\n",
    "f1 = f1_score(y, gmm_labels.astype(int))\n",
    "ari = adjusted_rand_score(y, gmm_labels.astype(int))\n",
    "print(\"Gmm F1:\", f1, \"| ARI:\", ari)\n"
   ]
  },
  {
   "cell_type": "code",
   "execution_count": 10,
   "id": "079e336b",
   "metadata": {},
   "outputs": [
    {
     "data": {
      "text/plain": [
       "(82332, 36)"
      ]
     },
     "execution_count": 10,
     "metadata": {},
     "output_type": "execute_result"
    }
   ],
   "source": [
    "test_data = pd.read_parquet(r\"Data\\UNSW_NB15_testing-set.parquet\", engine=\"pyarrow\")\n",
    "test_data.shape"
   ]
  },
  {
   "cell_type": "code",
   "execution_count": 11,
   "id": "fd164d39",
   "metadata": {},
   "outputs": [
    {
     "data": {
      "text/plain": [
       "Index(['dur', 'proto', 'service', 'state', 'spkts', 'dpkts', 'sbytes',\n",
       "       'dbytes', 'rate', 'sload', 'dload', 'sloss', 'dloss', 'sinpkt',\n",
       "       'dinpkt', 'sjit', 'djit', 'swin', 'stcpb', 'dtcpb', 'dwin', 'tcprtt',\n",
       "       'synack', 'ackdat', 'smean', 'dmean', 'trans_depth',\n",
       "       'response_body_len', 'ct_src_dport_ltm', 'ct_dst_sport_ltm',\n",
       "       'is_ftp_login', 'ct_ftp_cmd', 'ct_flw_http_mthd', 'is_sm_ips_ports',\n",
       "       'attack_cat', 'label'],\n",
       "      dtype='object')"
      ]
     },
     "execution_count": 11,
     "metadata": {},
     "output_type": "execute_result"
    }
   ],
   "source": [
    "test_data.columns"
   ]
  },
  {
   "cell_type": "code",
   "execution_count": 12,
   "id": "f4df7ca4",
   "metadata": {},
   "outputs": [],
   "source": [
    "Test_data_copy = test_data.copy()"
   ]
  },
  {
   "cell_type": "code",
   "execution_count": 13,
   "id": "757635ee",
   "metadata": {},
   "outputs": [],
   "source": [
    "for col in test_data.select_dtypes(include='category').columns:\n",
    "    test_data[col] = LabelEncoder().fit_transform(test_data[col])\n",
    "X_test = scaler.fit_transform(test_data.drop(columns=['attack_cat', 'label']))\n",
    "y_test = test_data['label']"
   ]
  },
  {
   "cell_type": "code",
   "execution_count": 14,
   "id": "36f251c7",
   "metadata": {},
   "outputs": [
    {
     "name": "stdout",
     "output_type": "stream",
     "text": [
      "(82332, 34)\n",
      "(82332,)\n"
     ]
    }
   ],
   "source": [
    "print(X_test.shape)\n",
    "print(y_test.shape)"
   ]
  },
  {
   "cell_type": "code",
   "execution_count": 32,
   "id": "4b44c356",
   "metadata": {},
   "outputs": [
    {
     "data": {
      "text/plain": [
       "(175341, 34)"
      ]
     },
     "execution_count": 32,
     "metadata": {},
     "output_type": "execute_result"
    }
   ],
   "source": [
    "X_full.shape"
   ]
  },
  {
   "cell_type": "code",
   "execution_count": 18,
   "id": "72732a0c",
   "metadata": {},
   "outputs": [
    {
     "name": "stdout",
     "output_type": "stream",
     "text": [
      "              precision    recall  f1-score   support\n",
      "\n",
      "           0       0.99      0.57      0.72     37000\n",
      "           1       0.74      1.00      0.85     45332\n",
      "\n",
      "    accuracy                           0.80     82332\n",
      "   macro avg       0.86      0.78      0.79     82332\n",
      "weighted avg       0.85      0.80      0.79     82332\n",
      "\n"
     ]
    }
   ],
   "source": [
    "from sklearn.ensemble import RandomForestClassifier\n",
    "from sklearn.svm import SVC\n",
    "from sklearn.neighbors import KNeighborsClassifier\n",
    "from sklearn.tree import DecisionTreeClassifier\n",
    "from sklearn.metrics import classification_report, confusion_matrix\n",
    "\n",
    "\n",
    "X_train = X_full\n",
    "y_train = y\n",
    "clf = RandomForestClassifier()\n",
    "clf.fit(X_train, y_train)\n",
    "pred = clf.predict(X_test)\n",
    "print(classification_report(y_test, pred))\n"
   ]
  },
  {
   "cell_type": "code",
   "execution_count": null,
   "id": "aeb3f098",
   "metadata": {},
   "outputs": [],
   "source": [
    "support_vector = SVC(kernel='linear',random_state=42)\n",
    "support_vector.fit(X_train, y_train)\n",
    "pred = support_vector.predict(X_test)\n",
    "print(classification_report(y_test, pred))"
   ]
  },
  {
   "cell_type": "code",
   "execution_count": 16,
   "id": "5932581e",
   "metadata": {},
   "outputs": [
    {
     "name": "stdout",
     "output_type": "stream",
     "text": [
      "              precision    recall  f1-score   support\n",
      "\n",
      "           0       0.94      0.66      0.77     37000\n",
      "           1       0.78      0.97      0.86     45332\n",
      "\n",
      "    accuracy                           0.83     82332\n",
      "   macro avg       0.86      0.81      0.82     82332\n",
      "weighted avg       0.85      0.83      0.82     82332\n",
      "\n"
     ]
    }
   ],
   "source": [
    "Knn = KNeighborsClassifier()\n",
    "Knn.fit(X_train, y_train)\n",
    "pred = Knn.predict(X_test)\n",
    "print(classification_report(y_test, pred))\n"
   ]
  },
  {
   "cell_type": "code",
   "execution_count": 21,
   "id": "da2aef66",
   "metadata": {},
   "outputs": [
    {
     "name": "stdout",
     "output_type": "stream",
     "text": [
      "              precision    recall  f1-score   support\n",
      "\n",
      "           0       0.75      0.53      0.62     37000\n",
      "           1       0.69      0.85      0.76     45332\n",
      "\n",
      "    accuracy                           0.71     82332\n",
      "   macro avg       0.72      0.69      0.69     82332\n",
      "weighted avg       0.72      0.71      0.70     82332\n",
      "\n"
     ]
    }
   ],
   "source": [
    "decision_tree = DecisionTreeClassifier()\n",
    "decision_tree.fit(X_train, y_train)\n",
    "pred = decision_tree.predict(X_test)\n",
    "print(classification_report(y_test, pred))"
   ]
  }
 ],
 "metadata": {
  "kernelspec": {
   "display_name": "venv",
   "language": "python",
   "name": "python3"
  },
  "language_info": {
   "codemirror_mode": {
    "name": "ipython",
    "version": 3
   },
   "file_extension": ".py",
   "mimetype": "text/x-python",
   "name": "python",
   "nbconvert_exporter": "python",
   "pygments_lexer": "ipython3",
   "version": "3.13.2"
  }
 },
 "nbformat": 4,
 "nbformat_minor": 5
}
