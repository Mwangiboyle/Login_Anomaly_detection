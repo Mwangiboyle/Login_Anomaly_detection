{
 "cells": [
  {
   "cell_type": "markdown",
   "id": "8bfcff73",
   "metadata": {},
   "source": [
    "✅ Identify & drop highly correlated features\n",
    "\n",
    "From your heatmap, examples of highly collinear pairs (r > 0.95):\n",
    "\n",
    "spkts and sbytes\n",
    "\n",
    "smean and spkts\n",
    "\n",
    "stcpb and dtcpb\n",
    "\n",
    "sinpkt and dmean\n",
    "\n",
    "dbytes and dpkts"
   ]
  },
  {
   "cell_type": "code",
   "execution_count": 1,
   "id": "c135341a",
   "metadata": {},
   "outputs": [
    {
     "name": "stdout",
     "output_type": "stream",
     "text": [
      "        dur proto service state  spkts  dpkts  sbytes  dbytes       rate  \\\n",
      "0  0.121478   tcp       -   FIN      6      4     258     172  74.087486   \n",
      "1  0.649902   tcp       -   FIN     14     38     734   42014  78.473373   \n",
      "2  1.623129   tcp       -   FIN      8     16     364   13186  14.170161   \n",
      "3  1.681642   tcp     ftp   FIN     12     12     628     770  13.677108   \n",
      "4  0.449454   tcp       -   FIN     10      6     534     268  33.373825   \n",
      "\n",
      "          sload  ...  trans_depth  response_body_len  ct_src_dport_ltm  \\\n",
      "0  14158.942383  ...            0                  0                 1   \n",
      "1   8395.112305  ...            0                  0                 1   \n",
      "2   1572.271851  ...            0                  0                 1   \n",
      "3   2740.178955  ...            0                  0                 1   \n",
      "4   8561.499023  ...            0                  0                 2   \n",
      "\n",
      "   ct_dst_sport_ltm  is_ftp_login  ct_ftp_cmd  ct_flw_http_mthd  \\\n",
      "0                 1             0           0                 0   \n",
      "1                 1             0           0                 0   \n",
      "2                 1             0           0                 0   \n",
      "3                 1             1           1                 0   \n",
      "4                 1             0           0                 0   \n",
      "\n",
      "   is_sm_ips_ports  attack_cat  label  \n",
      "0                0      Normal      0  \n",
      "1                0      Normal      0  \n",
      "2                0      Normal      0  \n",
      "3                0      Normal      0  \n",
      "4                0      Normal      0  \n",
      "\n",
      "[5 rows x 36 columns]\n"
     ]
    }
   ],
   "source": [
    "import pandas as pd\n",
    "\n",
    "data = pd.read_parquet(r\"Data\\UNSW_NB15_training-set.parquet\", engine=\"pyarrow\")\n",
    "print(data.head())"
   ]
  },
  {
   "cell_type": "code",
   "execution_count": 2,
   "id": "c0d15b9d",
   "metadata": {},
   "outputs": [
    {
     "data": {
      "text/plain": [
       "Index(['dur', 'proto', 'service', 'state', 'sbytes', 'dbytes', 'rate', 'sload',\n",
       "       'dload', 'sloss', 'dloss', 'sinpkt', 'dinpkt', 'sjit', 'djit', 'swin',\n",
       "       'stcpb', 'dwin', 'tcprtt', 'synack', 'ackdat', 'trans_depth',\n",
       "       'response_body_len', 'ct_src_dport_ltm', 'ct_dst_sport_ltm',\n",
       "       'is_ftp_login', 'ct_ftp_cmd', 'ct_flw_http_mthd', 'is_sm_ips_ports',\n",
       "       'attack_cat', 'label'],\n",
       "      dtype='object')"
      ]
     },
     "execution_count": 2,
     "metadata": {},
     "output_type": "execute_result"
    }
   ],
   "source": [
    "#Drop one feature per pair:\n",
    "\n",
    "high_corr_features = ['spkts', 'smean', 'dtcpb', 'dmean', 'dpkts']\n",
    "data_reduced = data.drop(columns=high_corr_features)\n",
    "data_reduced.columns\n"
   ]
  },
  {
   "cell_type": "markdown",
   "id": "0b5ddc60",
   "metadata": {},
   "source": [
    "Encode categorical variables\n",
    "\n",
    "Normalize or standardize numerical features"
   ]
  },
  {
   "cell_type": "code",
   "execution_count": 3,
   "id": "fd1a2e6a",
   "metadata": {},
   "outputs": [],
   "source": [
    "from sklearn.preprocessing import StandardScaler, LabelEncoder\n",
    "\n",
    "data_encoded = data.copy()\n",
    "for col in data_encoded.select_dtypes(include='category').columns:\n",
    "    data_encoded[col] = LabelEncoder().fit_transform(data_encoded[col])\n",
    "\n",
    "# Repeat for df_reduced\n",
    "scaler = StandardScaler()\n",
    "X_full = scaler.fit_transform(data_encoded.drop(columns=['attack_cat', 'label']))\n",
    "X_reduced = scaler.fit_transform(data_encoded.drop(columns=high_corr_features + ['attack_cat', 'label']))\n",
    "y = data_encoded['label']\n"
   ]
  },
  {
   "cell_type": "code",
   "execution_count": 4,
   "id": "239a080a",
   "metadata": {},
   "outputs": [
    {
     "data": {
      "text/plain": [
       "(175341, 29)"
      ]
     },
     "execution_count": 4,
     "metadata": {},
     "output_type": "execute_result"
    }
   ],
   "source": [
    "X_reduced.shape"
   ]
  },
  {
   "cell_type": "code",
   "execution_count": 5,
   "id": "b4f9e6a8",
   "metadata": {},
   "outputs": [],
   "source": [
    "from sklearn.ensemble import IsolationForest\n",
    "from sklearn.mixture import GaussianMixture\n",
    "from sklearn.cluster import DBSCAN\n",
    "\n",
    "# Isolation Forest\n",
    "iso = IsolationForest(contamination=0.05, random_state=42)\n",
    "pred_iso = iso.fit_predict(X_full)  # -1 = anomaly, 1 = normal\n"
   ]
  },
  {
   "cell_type": "code",
   "execution_count": 6,
   "id": "c16e32e1",
   "metadata": {},
   "outputs": [],
   "source": [
    "# GMM\n",
    "gmm = GaussianMixture(n_components=2, random_state=42)\n",
    "gmm_labels = gmm.fit_predict(X_full)\n"
   ]
  },
  {
   "cell_type": "code",
   "execution_count": null,
   "id": "c72e1948",
   "metadata": {},
   "outputs": [],
   "source": [
    "from sklearn.decomposition import PCA\n",
    "\n",
    "pca = PCA(n_components=10, random_state=42)\n",
    "X_pca = pca.fit_transform(X_full)\n",
    "\n",
    "dbscan = DBSCAN(eps=1.5, min_samples=5)\n",
    "db_labels = dbscan.fit_predict(X_pca)\n"
   ]
  },
  {
   "cell_type": "code",
   "execution_count": 7,
   "id": "272e3da5",
   "metadata": {},
   "outputs": [
    {
     "data": {
      "text/plain": [
       "array([0, 0, 0, ..., 1, 1, 1], shape=(175341,))"
      ]
     },
     "execution_count": 7,
     "metadata": {},
     "output_type": "execute_result"
    }
   ],
   "source": [
    "gmm_labels"
   ]
  },
  {
   "cell_type": "code",
   "execution_count": 8,
   "id": "20e3eb1c",
   "metadata": {},
   "outputs": [
    {
     "name": "stdout",
     "output_type": "stream",
     "text": [
      "Isolation Forest F1: 0.08965872545040122 | ARI: 0.003743917028665791\n"
     ]
    }
   ],
   "source": [
    "from sklearn.metrics import f1_score, adjusted_rand_score\n",
    "\n",
    "f1 = f1_score(y, (pred_iso == -1).astype(int))\n",
    "ari = adjusted_rand_score(y, (pred_iso == -1).astype(int))\n",
    "print(\"Isolation Forest F1:\", f1, \"| ARI:\", ari)\n"
   ]
  },
  {
   "cell_type": "code",
   "execution_count": 9,
   "id": "14b24799",
   "metadata": {},
   "outputs": [
    {
     "name": "stdout",
     "output_type": "stream",
     "text": [
      "Gmm F1: 0.7283791995027622 | ARI: 0.1091433542732965\n"
     ]
    }
   ],
   "source": [
    "from sklearn.metrics import f1_score, adjusted_rand_score\n",
    "\n",
    "f1 = f1_score(y, gmm_labels.astype(int))\n",
    "ari = adjusted_rand_score(y, gmm_labels.astype(int))\n",
    "print(\"Gmm F1:\", f1, \"| ARI:\", ari)\n"
   ]
  },
  {
   "cell_type": "code",
   "execution_count": 10,
   "id": "079e336b",
   "metadata": {},
   "outputs": [
    {
     "data": {
      "text/plain": [
       "(82332, 36)"
      ]
     },
     "execution_count": 10,
     "metadata": {},
     "output_type": "execute_result"
    }
   ],
   "source": [
    "test_data = pd.read_parquet(r\"Data\\UNSW_NB15_testing-set.parquet\", engine=\"pyarrow\")\n",
    "test_data.shape"
   ]
  },
  {
   "cell_type": "code",
   "execution_count": 11,
   "id": "fd164d39",
   "metadata": {},
   "outputs": [
    {
     "data": {
      "text/plain": [
       "Index(['dur', 'proto', 'service', 'state', 'spkts', 'dpkts', 'sbytes',\n",
       "       'dbytes', 'rate', 'sload', 'dload', 'sloss', 'dloss', 'sinpkt',\n",
       "       'dinpkt', 'sjit', 'djit', 'swin', 'stcpb', 'dtcpb', 'dwin', 'tcprtt',\n",
       "       'synack', 'ackdat', 'smean', 'dmean', 'trans_depth',\n",
       "       'response_body_len', 'ct_src_dport_ltm', 'ct_dst_sport_ltm',\n",
       "       'is_ftp_login', 'ct_ftp_cmd', 'ct_flw_http_mthd', 'is_sm_ips_ports',\n",
       "       'attack_cat', 'label'],\n",
       "      dtype='object')"
      ]
     },
     "execution_count": 11,
     "metadata": {},
     "output_type": "execute_result"
    }
   ],
   "source": [
    "test_data.columns"
   ]
  },
  {
   "cell_type": "code",
   "execution_count": 12,
   "id": "f4df7ca4",
   "metadata": {},
   "outputs": [],
   "source": [
    "Test_data_copy = test_data.copy()"
   ]
  },
  {
   "cell_type": "code",
   "execution_count": 13,
   "id": "757635ee",
   "metadata": {},
   "outputs": [],
   "source": [
    "for col in test_data.select_dtypes(include='category').columns:\n",
    "    test_data[col] = LabelEncoder().fit_transform(test_data[col])\n",
    "X_test = scaler.fit_transform(test_data.drop(columns=['attack_cat', 'label']))\n",
    "y_test = test_data['label']"
   ]
  },
  {
   "cell_type": "code",
   "execution_count": 14,
   "id": "36f251c7",
   "metadata": {},
   "outputs": [
    {
     "name": "stdout",
     "output_type": "stream",
     "text": [
      "(82332, 34)\n",
      "(82332,)\n"
     ]
    }
   ],
   "source": [
    "print(X_test.shape)\n",
    "print(y_test.shape)"
   ]
  },
  {
   "cell_type": "code",
   "execution_count": 15,
   "id": "4b44c356",
   "metadata": {},
   "outputs": [
    {
     "data": {
      "text/plain": [
       "(175341, 34)"
      ]
     },
     "execution_count": 15,
     "metadata": {},
     "output_type": "execute_result"
    }
   ],
   "source": [
    "X_full.shape"
   ]
  },
  {
   "cell_type": "code",
   "execution_count": 16,
   "id": "e47ec82a",
   "metadata": {},
   "outputs": [
    {
     "data": {
      "text/plain": [
       "(175341,)"
      ]
     },
     "execution_count": 16,
     "metadata": {},
     "output_type": "execute_result"
    }
   ],
   "source": [
    "y.shape"
   ]
  },
  {
   "cell_type": "code",
   "execution_count": 17,
   "id": "72732a0c",
   "metadata": {},
   "outputs": [
    {
     "name": "stdout",
     "output_type": "stream",
     "text": [
      "              precision    recall  f1-score   support\n",
      "\n",
      "           0       0.99      0.56      0.71     37000\n",
      "           1       0.73      1.00      0.84     45332\n",
      "\n",
      "    accuracy                           0.80     82332\n",
      "   macro avg       0.86      0.78      0.78     82332\n",
      "weighted avg       0.85      0.80      0.78     82332\n",
      "\n"
     ]
    }
   ],
   "source": [
    "from sklearn.ensemble import RandomForestClassifier\n",
    "from sklearn.svm import SVC\n",
    "from sklearn.neighbors import KNeighborsClassifier\n",
    "from sklearn.tree import DecisionTreeClassifier\n",
    "from sklearn.metrics import classification_report, confusion_matrix\n",
    "\n",
    "\n",
    "X_train = X_full\n",
    "y_train = y\n",
    "clf = RandomForestClassifier()\n",
    "clf.fit(X_train, y_train)\n",
    "pred = clf.predict(X_test)\n",
    "print(classification_report(y_test, pred))\n"
   ]
  },
  {
   "cell_type": "code",
   "execution_count": null,
   "id": "aeb3f098",
   "metadata": {},
   "outputs": [],
   "source": [
    "support_vector = SVC(kernel='linear',random_state=42)\n",
    "support_vector.fit(X_train, y_train)\n",
    "pred = support_vector.predict(X_test)\n",
    "print(classification_report(y_test, pred))"
   ]
  },
  {
   "cell_type": "code",
   "execution_count": 18,
   "id": "5932581e",
   "metadata": {},
   "outputs": [
    {
     "name": "stdout",
     "output_type": "stream",
     "text": [
      "              precision    recall  f1-score   support\n",
      "\n",
      "           0       0.94      0.66      0.77     37000\n",
      "           1       0.78      0.97      0.86     45332\n",
      "\n",
      "    accuracy                           0.83     82332\n",
      "   macro avg       0.86      0.81      0.82     82332\n",
      "weighted avg       0.85      0.83      0.82     82332\n",
      "\n"
     ]
    }
   ],
   "source": [
    "Knn = KNeighborsClassifier()\n",
    "Knn.fit(X_train, y_train)\n",
    "pred = Knn.predict(X_test)\n",
    "print(classification_report(y_test, pred))\n"
   ]
  },
  {
   "cell_type": "code",
   "execution_count": 19,
   "id": "da2aef66",
   "metadata": {},
   "outputs": [
    {
     "name": "stdout",
     "output_type": "stream",
     "text": [
      "              precision    recall  f1-score   support\n",
      "\n",
      "           0       0.87      0.54      0.67     37000\n",
      "           1       0.71      0.93      0.81     45332\n",
      "\n",
      "    accuracy                           0.76     82332\n",
      "   macro avg       0.79      0.74      0.74     82332\n",
      "weighted avg       0.78      0.76      0.74     82332\n",
      "\n"
     ]
    }
   ],
   "source": [
    "decision_tree = DecisionTreeClassifier()\n",
    "decision_tree.fit(X_train, y_train)\n",
    "pred = decision_tree.predict(X_test)\n",
    "print(classification_report(y_test, pred))"
   ]
  },
  {
   "cell_type": "markdown",
   "id": "33587857",
   "metadata": {},
   "source": [
    "Now let's fit knn, decsion trees, random forest and gmm (since they're performing quiet well) using dataset that we have removed some elements that had collinearlity"
   ]
  },
  {
   "cell_type": "code",
   "execution_count": 26,
   "id": "b373bb24",
   "metadata": {},
   "outputs": [
    {
     "name": "stdout",
     "output_type": "stream",
     "text": [
      "Gmm F1: 0.035621751104013555 | ARI: 0.0022309682063044673\n"
     ]
    }
   ],
   "source": [
    "# GMM\n",
    "gmm = GaussianMixture(n_components=2, random_state=42)\n",
    "gmm_labels = gmm.fit_predict(X_reduced)\n",
    "\n",
    "f1 = f1_score(y, gmm_labels.astype(int))\n",
    "ari = adjusted_rand_score(y, gmm_labels.astype(int))\n",
    "print(\"Gmm F1:\", f1, \"| ARI:\", ari)\n"
   ]
  },
  {
   "cell_type": "code",
   "execution_count": 20,
   "id": "27f6f1d8",
   "metadata": {},
   "outputs": [
    {
     "data": {
      "text/plain": [
       "array([[-0.21372745,  0.41056274, -0.6744059 , ..., -0.09061736,\n",
       "        -0.20314282, -0.10607007],\n",
       "       [-0.21372808,  0.41056274, -0.6744059 , ..., -0.09061736,\n",
       "        -0.20314282, -0.10607007],\n",
       "       [-0.21372872,  0.41056274, -0.6744059 , ..., -0.09061736,\n",
       "        -0.20314282, -0.10607007],\n",
       "       ...,\n",
       "       [-0.21372978, -5.54527746, -0.6744059 , ..., -0.09061736,\n",
       "        -0.20314282,  9.42773017],\n",
       "       [-0.21372978, -5.54527746, -0.6744059 , ..., -0.09061736,\n",
       "        -0.20314282,  9.42773017],\n",
       "       [-0.21372787,  0.41056274, -0.6744059 , ..., -0.09061736,\n",
       "        -0.20314282, -0.10607007]], shape=(82332, 34))"
      ]
     },
     "execution_count": 20,
     "metadata": {},
     "output_type": "execute_result"
    }
   ],
   "source": [
    "X_test"
   ]
  },
  {
   "cell_type": "code",
   "execution_count": 89,
   "id": "bc52300e",
   "metadata": {},
   "outputs": [],
   "source": [
    "X_test = scaler.fit_transform(X_test)"
   ]
  },
  {
   "cell_type": "code",
   "execution_count": 21,
   "id": "607c6c51",
   "metadata": {},
   "outputs": [
    {
     "data": {
      "text/plain": [
       "array([[-0.21372745,  0.41056274, -0.6744059 ,  0.93269533, -0.1244551 ,\n",
       "        -0.15181641, -0.04368361, -0.08736871,  0.05718099,  0.6439127 ,\n",
       "        -0.26349797, -0.07353054, -0.11324391, -0.12217934, -0.09416902,\n",
       "        -0.11217671, -0.14721835, -1.04791956, -0.77984004, -0.77675409,\n",
       "        -1.00624379, -0.48202491, -0.41290971, -0.48407269,  0.52031938,\n",
       "        -0.47537059, -0.17364821, -0.04190986, -0.46831162, -0.45018649,\n",
       "        -0.09085748, -0.09061736, -0.20314282, -0.10607007],\n",
       "       [-0.21372808,  0.41056274, -0.6744059 ,  0.93269533, -0.1244551 ,\n",
       "        -0.15181641, -0.03630776, -0.08736871,  0.28656485,  4.53935073,\n",
       "        -0.26349797, -0.07353054, -0.11324391, -0.12217982, -0.09416902,\n",
       "        -0.11217671, -0.14721835, -1.04791956, -0.77984004, -0.77675409,\n",
       "        -1.00624379, -0.48202491, -0.41290971, -0.48407269,  3.55671589,\n",
       "        -0.47537059, -0.17364821, -0.04190986, -0.46831162, -0.45018649,\n",
       "        -0.09085748, -0.09061736, -0.20314282, -0.10607007],\n",
       "       [-0.21372872,  0.41056274, -0.6744059 ,  0.93269533, -0.1244551 ,\n",
       "        -0.15181641, -0.04035108, -0.08736871,  0.79120938,  4.39145853,\n",
       "        -0.26349797, -0.07353054, -0.11324391, -0.12218031, -0.09416902,\n",
       "        -0.11217671, -0.14721835, -1.04791956, -0.77984004, -0.77675409,\n",
       "        -1.00624379, -0.48202491, -0.41290971, -0.48407269,  1.89221417,\n",
       "        -0.47537059, -0.17364821, -0.04190986, -0.46831162, -0.45018649,\n",
       "        -0.09085748, -0.09061736, -0.20314282, -0.10607007],\n",
       "       [-0.21372851,  0.41056274, -0.6744059 ,  0.93269533, -0.1244551 ,\n",
       "        -0.15181641, -0.04132986, -0.08736871,  0.56692285,  2.97703091,\n",
       "        -0.26349797, -0.07353054, -0.11324391, -0.12218015, -0.09416902,\n",
       "        -0.11217671, -0.14721835, -1.04791956, -0.77984004, -0.77675409,\n",
       "        -1.00624379, -0.48202491, -0.41290971, -0.48407269,  1.48928004,\n",
       "        -0.47537059, -0.17364821, -0.04190986, -0.34911492, -0.45018649,\n",
       "        -0.09085748, -0.09061736, -0.20314282, -0.10607007],\n",
       "       [-0.21372766,  0.41056274, -0.6744059 ,  0.93269533, -0.1244551 ,\n",
       "        -0.15181641, -0.03418706, -0.08736871,  0.11835   ,  4.36921911,\n",
       "        -0.26349797, -0.07353054, -0.11324391, -0.1221795 , -0.09416902,\n",
       "        -0.11217671, -0.14721835, -1.04791956, -0.77984004, -0.77675409,\n",
       "        -1.00624379, -0.48202491, -0.41290971, -0.48407269,  4.42973984,\n",
       "        -0.47537059, -0.17364821, -0.04190986, -0.34911492, -0.45018649,\n",
       "        -0.09085748, -0.09061736, -0.20314282, -0.10607007]])"
      ]
     },
     "execution_count": 21,
     "metadata": {},
     "output_type": "execute_result"
    }
   ],
   "source": [
    "X_test[:5]"
   ]
  },
  {
   "cell_type": "code",
   "execution_count": null,
   "id": "d8e807fc",
   "metadata": {},
   "outputs": [],
   "source": [
    "clf = RandomForestClassifier()\n",
    "clf.fit(X_reduced, y_train)\n",
    "pred = clf.predict(X_test)\n",
    "print(classification_report(y_test, pred))"
   ]
  },
  {
   "cell_type": "code",
   "execution_count": 36,
   "id": "ec16c37c",
   "metadata": {},
   "outputs": [
    {
     "name": "stdout",
     "output_type": "stream",
     "text": [
      "              precision    recall  f1-score   support\n",
      "\n",
      "           0       0.94      0.65      0.77     37000\n",
      "           1       0.77      0.97      0.86     45332\n",
      "\n",
      "    accuracy                           0.82     82332\n",
      "   macro avg       0.85      0.81      0.81     82332\n",
      "weighted avg       0.85      0.82      0.82     82332\n",
      "\n"
     ]
    }
   ],
   "source": [
    "Knn = KNeighborsClassifier()\n",
    "Knn.fit(X_reduced, y_train)\n",
    "pred = Knn.predict(X_test)\n",
    "print(classification_report(y_test, pred))"
   ]
  },
  {
   "cell_type": "markdown",
   "id": "a11a9987",
   "metadata": {},
   "source": [
    "since this dataset is imbalanced we'll try to handle the dataset using different techniques and try and increase the F1 score of the minority class"
   ]
  },
  {
   "cell_type": "code",
   "execution_count": 22,
   "id": "9f60d4c0",
   "metadata": {},
   "outputs": [],
   "source": [
    "from imblearn.over_sampling import SMOTE\n",
    "sm  = SMOTE(random_state=42)\n",
    "X_train, y_train = sm.fit_resample(X_full, y)"
   ]
  },
  {
   "cell_type": "code",
   "execution_count": 23,
   "id": "fe1fc5f2",
   "metadata": {},
   "outputs": [
    {
     "name": "stdout",
     "output_type": "stream",
     "text": [
      "After OverSampling, the shape of train_X: (238682, 34)\n",
      "After OverSampling, the shape of train_y: (238682,) \n",
      "\n",
      "After OverSampling, counts of label '1': 119341\n",
      "After OverSampling, counts of label '0': 119341\n"
     ]
    }
   ],
   "source": [
    "print('After OverSampling, the shape of train_X: {}'.format(X_train.shape))\n",
    "print('After OverSampling, the shape of train_y: {} \\n'.format(y_train.shape))\n",
    "\n",
    "print(\"After OverSampling, counts of label '1': {}\".format(sum(y_train == 1)))\n",
    "print(\"After OverSampling, counts of label '0': {}\".format(sum(y_train == 0)))"
   ]
  },
  {
   "cell_type": "code",
   "execution_count": 24,
   "id": "73d21fef",
   "metadata": {},
   "outputs": [],
   "source": [
    "from sklearn.tree import DecisionTreeClassifier\n",
    "from sklearn.neighbors import KNeighborsClassifier\n",
    "from sklearn.ensemble import RandomForestClassifier\n",
    "from sklearn.metrics import classification_report, confusion_matrix\n",
    "\n"
   ]
  },
  {
   "cell_type": "code",
   "execution_count": 25,
   "id": "ea7cad06",
   "metadata": {},
   "outputs": [
    {
     "name": "stdout",
     "output_type": "stream",
     "text": [
      "              precision    recall  f1-score   support\n",
      "\n",
      "           0       0.45      0.94      0.61     37000\n",
      "           1       0.54      0.06      0.11     45332\n",
      "\n",
      "    accuracy                           0.45     82332\n",
      "   macro avg       0.50      0.50      0.36     82332\n",
      "weighted avg       0.50      0.45      0.33     82332\n",
      "\n"
     ]
    }
   ],
   "source": [
    "decision_tree = DecisionTreeClassifier()\n",
    "decision_tree.fit(X_train, y_train)\n",
    "pred = decision_tree.predict(X_test)\n",
    "print(classification_report(y_test, pred))"
   ]
  },
  {
   "cell_type": "code",
   "execution_count": 26,
   "id": "33149fa0",
   "metadata": {},
   "outputs": [
    {
     "name": "stdout",
     "output_type": "stream",
     "text": [
      "              precision    recall  f1-score   support\n",
      "\n",
      "           0       0.77      0.88      0.82     37000\n",
      "           1       0.89      0.78      0.83     45332\n",
      "\n",
      "    accuracy                           0.82     82332\n",
      "   macro avg       0.83      0.83      0.82     82332\n",
      "weighted avg       0.83      0.82      0.83     82332\n",
      "\n"
     ]
    }
   ],
   "source": [
    "clf = RandomForestClassifier()\n",
    "clf.fit(X_train, y_train)\n",
    "pred = clf.predict(X_test)\n",
    "print(classification_report(y_test, pred))"
   ]
  },
  {
   "cell_type": "code",
   "execution_count": 27,
   "id": "2ed8ec43",
   "metadata": {},
   "outputs": [
    {
     "name": "stdout",
     "output_type": "stream",
     "text": [
      "              precision    recall  f1-score   support\n",
      "\n",
      "           0       0.89      0.75      0.82     37000\n",
      "           1       0.82      0.93      0.87     45332\n",
      "\n",
      "    accuracy                           0.85     82332\n",
      "   macro avg       0.86      0.84      0.84     82332\n",
      "weighted avg       0.85      0.85      0.85     82332\n",
      "\n"
     ]
    }
   ],
   "source": [
    "Knn = KNeighborsClassifier()\n",
    "Knn.fit(X_train, y_train)\n",
    "pred = Knn.predict(X_test)\n",
    "print(classification_report(y_test, pred))"
   ]
  },
  {
   "cell_type": "markdown",
   "id": "de9ebfcc",
   "metadata": {},
   "source": [
    "At this point I decided to go with knn classifier and also random forest. There was not much I could do to the data to improve the metrics. Let's try fine tuning the parameteres using random searchCV and see if we can improve the metrics by 2-3%"
   ]
  },
  {
   "cell_type": "code",
   "execution_count": 35,
   "id": "7cbd990a",
   "metadata": {},
   "outputs": [
    {
     "data": {
      "text/plain": [
       "{'algorithm': 'auto',\n",
       " 'leaf_size': 30,\n",
       " 'metric': 'minkowski',\n",
       " 'metric_params': None,\n",
       " 'n_jobs': None,\n",
       " 'n_neighbors': 5,\n",
       " 'p': 2,\n",
       " 'weights': 'uniform'}"
      ]
     },
     "execution_count": 35,
     "metadata": {},
     "output_type": "execute_result"
    }
   ],
   "source": [
    "#view the parameters of the current model\n",
    "Knn.get_params()"
   ]
  },
  {
   "cell_type": "code",
   "execution_count": 36,
   "id": "08d8e2df",
   "metadata": {},
   "outputs": [
    {
     "data": {
      "text/plain": [
       "{'bootstrap': True,\n",
       " 'ccp_alpha': 0.0,\n",
       " 'class_weight': None,\n",
       " 'criterion': 'gini',\n",
       " 'max_depth': None,\n",
       " 'max_features': 'sqrt',\n",
       " 'max_leaf_nodes': None,\n",
       " 'max_samples': None,\n",
       " 'min_impurity_decrease': 0.0,\n",
       " 'min_samples_leaf': 1,\n",
       " 'min_samples_split': 2,\n",
       " 'min_weight_fraction_leaf': 0.0,\n",
       " 'monotonic_cst': None,\n",
       " 'n_estimators': 100,\n",
       " 'n_jobs': None,\n",
       " 'oob_score': False,\n",
       " 'random_state': None,\n",
       " 'verbose': 0,\n",
       " 'warm_start': False}"
      ]
     },
     "execution_count": 36,
     "metadata": {},
     "output_type": "execute_result"
    }
   ],
   "source": [
    "#view the parameters of the model\n",
    "clf.get_params()"
   ]
  },
  {
   "cell_type": "markdown",
   "id": "6fe639ca",
   "metadata": {},
   "source": [
    "We specify different parameters for each of our selected model"
   ]
  },
  {
   "cell_type": "code",
   "execution_count": null,
   "id": "e654c630",
   "metadata": {},
   "outputs": [],
   "source": [
    "knn_param_grid = {\n",
    "    'algorithm':['auto', 'ball_tree', 'kd_tree', 'brute'],\n",
    "    'leaf_size': [10, 20, 30, 40],\n",
    "    'n_neighbors': [2,3,5,6],\n",
    "    'weights': ['uniform', 'distance']  \n",
    "}\n",
    "\n",
    "clf_param_grid = {\n",
    "    'bootstrap': [True, False],\n",
    "    'min_samples_split': [2,4,5,6],\n",
    "    'class_weight': None,\n",
    "    'criterion': ['gini', 'entropy', 'log_loss'],\n",
    "    'max_depth': None,\n",
    "    'max_features': ['sqrt','log2', None],\n",
    "    'monotonic_cst': None,\n",
    "    'n_estimators': [10,20, 40, 50, 80,100],\n",
    "    'oob_score': [True, False],\n",
    "    'random_state': 42,\n",
    "    }"
   ]
  },
  {
   "cell_type": "code",
   "execution_count": null,
   "id": "212ff1a8",
   "metadata": {},
   "outputs": [],
   "source": [
    "from sklearn.model_selection import RandomizedSearchCV\n",
    "\n"
   ]
  }
 ],
 "metadata": {
  "kernelspec": {
   "display_name": "venv",
   "language": "python",
   "name": "python3"
  },
  "language_info": {
   "codemirror_mode": {
    "name": "ipython",
    "version": 3
   },
   "file_extension": ".py",
   "mimetype": "text/x-python",
   "name": "python",
   "nbconvert_exporter": "python",
   "pygments_lexer": "ipython3",
   "version": "3.13.2"
  }
 },
 "nbformat": 4,
 "nbformat_minor": 5
}
